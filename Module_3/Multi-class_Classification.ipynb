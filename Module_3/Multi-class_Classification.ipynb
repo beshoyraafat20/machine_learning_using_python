{
 "cells": [
  {
   "cell_type": "markdown",
   "id": "f76016be",
   "metadata": {},
   "source": [
    "# Multi-class classification\n",
    "in this lab, you will learn the different strategies of multi-class classification and implement the same on a real- world dataset."
   ]
  },
  {
   "cell_type": "markdown",
   "id": "7af90919",
   "metadata": {},
   "source": [
    "## **Objectives**\n",
    "After completing this lab you will be able to:\n",
    "1. Understand the use of one-hot encoding for categorical variables.\n",
    "2. Implement logistic regression for multi-class classification using **One-vs-All (OvA)** and **One-vs-One (OvO)** strategies.\n",
    "3. Evaluate model performance using appropriate metrics.\n"
   ]
  },
  {
   "cell_type": "markdown",
   "id": "c3ffa1a0",
   "metadata": {},
   "source": [
    "## Import Necessary Libraries\n",
    "import the necessary libraries for data processing, model training, and evaluation."
   ]
  },
  {
   "cell_type": "code",
   "execution_count": 1,
   "id": "8670c5fa",
   "metadata": {},
   "outputs": [],
   "source": [
    "import pandas as pd\n",
    "import numpy as np\n",
    "import matplotlib.pyplot as plt\n",
    "import seaborn as sns\n",
    "from sklearn.model_selection import train_test_split\n",
    "from sklearn.preprocessing import OneHotEncoder, StandardScaler\n",
    "from sklearn.linear_model import LogisticRegression\n",
    "from sklearn.multiclass import OneVsOneClassifier\n",
    "from sklearn.metrics import accuracy_score\n",
    "\n",
    "import warnings\n",
    "warnings.filterwarnings('ignore')"
   ]
  },
  {
   "cell_type": "markdown",
   "id": "d0c6a71b",
   "metadata": {},
   "source": []
  }
 ],
 "metadata": {
  "kernelspec": {
   "display_name": "Python 3",
   "language": "python",
   "name": "python3"
  },
  "language_info": {
   "codemirror_mode": {
    "name": "ipython",
    "version": 3
   },
   "file_extension": ".py",
   "mimetype": "text/x-python",
   "name": "python",
   "nbconvert_exporter": "python",
   "pygments_lexer": "ipython3",
   "version": "3.10.6"
  }
 },
 "nbformat": 4,
 "nbformat_minor": 5
}
